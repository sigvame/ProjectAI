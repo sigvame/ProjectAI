{
 "cells": [
  {
   "cell_type": "code",
   "execution_count": 4,
   "id": "6ff71117-5da5-43cb-b70c-b7bbb1ea0470",
   "metadata": {},
   "outputs": [
    {
     "name": "stdout",
     "output_type": "stream",
     "text": [
      "\n",
      "\n",
      "| Показник | Значення |\n",
      "| -------- | -------- |\n",
      "| Середнє значення ---| 4.00 \n",
      "| Максимальне значення| 7 \n",
      "| Мінімальне значення | 1 \n",
      "| Різниця Max-Min --- | 6 \n",
      "\n"
     ]
    }
   ],
   "source": [
    "#завдання 1\n",
    "temperatures = [2, 5, 4, 6, 7, 3, 1]\n",
    "average_temp = sum(temperatures) / len(temperatures)\n",
    "\n",
    "max_temp = max(temperatures)\n",
    "min_temp = min(temperatures)\n",
    "\n",
    "range_temp = max_temp - min_temp\n",
    "\n",
    "table = f\"\"\"\n",
    "\n",
    "| Показник | Значення |\n",
    "| -------- | -------- |\n",
    "| Середнє значення ---| {average_temp:.2f} \n",
    "| Максимальне значення| {max_temp} \n",
    "| Мінімальне значення | {min_temp} \n",
    "| Різниця Max-Min --- | {range_temp} \n",
    "\"\"\"\n",
    "\n",
    "print(table)"
   ]
  },
  {
   "cell_type": "code",
   "execution_count": 6,
   "id": "064ebf56-b6b2-4b47-837e-dae3ce303914",
   "metadata": {},
   "outputs": [
    {
     "name": "stdout",
     "output_type": "stream",
     "text": [
      "\n",
      "|  Показник  |  Значення  |\n",
      "| ---------- | ---------- |\n",
      "| Загальна сума витрат -- | 6400\n",
      "| Середнє значення витрат | 914.29\n",
      "| Максимальна витрата --- | 1500\n",
      "| Мінімальна витрата ---- | 400\n",
      "| Дні з витратою > 1000 - | 2\n",
      "\n"
     ]
    }
   ],
   "source": [
    "# завдання 2\n",
    "expenses = [1200, 1500, 800, 600, 1000, 400, 900]\n",
    "t = 1000\n",
    "\n",
    "total_expenses = sum(expenses)\n",
    "\n",
    "average_expense = total_expenses / len(expenses)\n",
    "\n",
    "max_expense = max(expenses)\n",
    "min_expense = min(expenses)\n",
    "\n",
    "days_above = 0\n",
    "for expense in expenses:\n",
    "    if expense > t:\n",
    "        days_above += 1\n",
    "\n",
    "table = f\"\"\"\n",
    "|  Показник  |  Значення  |\n",
    "| ---------- | ---------- |\n",
    "| Загальна сума витрат -- | {total_expenses}\n",
    "| Середнє значення витрат | {average_expense:.2f}\n",
    "| Максимальна витрата --- | {max_expense}\n",
    "| Мінімальна витрата ---- | {min_expense}\n",
    "| Дні з витратою > 1000 - | {days_above}\n",
    "\"\"\"\n",
    "\n",
    "print(table)"
   ]
  },
  {
   "cell_type": "code",
   "execution_count": 14,
   "id": "f9a91ad4-68e2-4b79-9023-1d45adcc9b1a",
   "metadata": {},
   "outputs": [
    {
     "name": "stdout",
     "output_type": "stream",
     "text": [
      "## Результати голосування (Фрукт → Кількість)\n",
      "|  Фрукт  |  Кількість  |\n",
      "| ------- | ----------- |\n",
      "| apple | 5 |\n",
      "| banana | 2 |\n",
      "| orange | 2 |\n",
      "|  Фрукт  |  Кількість  |\n",
      "| ------- | ----------- |\n",
      "| apple | 5 |\n",
      "| banana | 2 |\n",
      "| orange | 2 |\n",
      "|  Фрукт  |  Кількість  |\n",
      "| ------- | ----------- |\n",
      "| apple | 5 |\n",
      "| banana | 2 |\n",
      "| orange | 2 |\n",
      "|  Фрукт  |  Кількість  |\n",
      "| ------- | ----------- |\n",
      "| apple | 5 |\n",
      "| banana | 2 |\n",
      "| orange | 2 |\n",
      "\n",
      "## Топ-3\n",
      "| Місце | Фрукт  | Кількість |\n",
      "| ----- | ------ | --------- |\n",
      "| 1 --- | apple | 5 |\n",
      "| 2 --- | banana | 2 |\n",
      "| 3 --- | orange | 2 |\n",
      "\n"
     ]
    }
   ],
   "source": [
    "#завдання 3\n",
    "from collections import Counter\n",
    "\n",
    "votes = [\"apple\", \"banana\", \"apple\", \"orange\", \"banana\", \"apple\", \"apple\", \"apple\", \"orange\"]\n",
    "vote_counts = Counter(votes)\n",
    "\n",
    "leader_data = vote_counts.most_common(1)[0]\n",
    "leader_fruit = leader_data[0]\n",
    "leader_votes = leader_data[1]\n",
    "\n",
    "top_3_data = vote_counts.most_common(3)\n",
    "\n",
    "table += \"|  Фрукт  |  Кількість  |\\n\"\n",
    "table += \"| ------- | ----------- |\\n\"\n",
    "\n",
    "for fruit, count in vote_counts.items():\n",
    "    table += f\"| {fruit} | {count} |\\n\"\n",
    "\n",
    "print(table)\n",
    "\n",
    "table_top3 = \"## Топ-3\\n\"\n",
    "table_top3 += \"| Місце | Фрукт  | Кількість |\\n\"\n",
    "table_top3 += \"| ----- | ------ | --------- |\\n\"\n",
    "\n",
    "for index, (fruit, count) in enumerate(top_3_data):\n",
    "    table_top3 += f\"| {index + 1} --- | {fruit} | {count} |\\n\"\n",
    "\n",
    "print(table_top3)"
   ]
  },
  {
   "cell_type": "code",
   "execution_count": 17,
   "id": "048edb1b-5cf3-4f95-b31e-02a74107644f",
   "metadata": {},
   "outputs": [
    {
     "name": "stdout",
     "output_type": "stream",
     "text": [
      "Математика: Середній = 79.00, Мін = 60, Макс = 92\n",
      "Фізика: Середній = 77.60, Мін = 65, Макс = 90\n",
      "Англійська: Середній = 91.40, Мін = 85, Макс = 100\n",
      "Предмет з найвищим середнім результатом: Англійська\n"
     ]
    }
   ],
   "source": [
    "# завдання 4\n",
    "math = [80, 92, 75, 60, 88]\n",
    "physics = [70, 65, 90, 85, 78]\n",
    "english = [95, 100, 85, 90, 87]\n",
    "\n",
    "subjects = {\n",
    "    \"Математика\": math,\n",
    "    \"Фізика\": physics,\n",
    "    \"Англійська\": english\n",
    "}\n",
    "\n",
    "results = {}\n",
    "best_subject = \"\"\n",
    "max_avg_score = -1\n",
    "\n",
    "for subject_name, scores in subjects.items():\n",
    "    avg_score = sum(scores) / len(scores)\n",
    "    min_score = min(scores)\n",
    "    max_score = max(scores)\n",
    "    results[subject_name] = {\n",
    "        \"avg\": avg_score,\n",
    "        \"min\": min_score,\n",
    "        \"max\": max_score\n",
    "    }\n",
    "    \n",
    "    if avg_score > max_avg_score:\n",
    "        max_avg_score = avg_score\n",
    "        best_subject = subject_name\n",
    "\n",
    "for subject, data in results.items():\n",
    "    print(f\"{subject}: Середній = {data['avg']:.2f}, Мін = {data['min']}, Макс = {data['max']}\")\n",
    "\n",
    "print(f\"Предмет з найвищим середнім результатом: {best_subject}\")"
   ]
  },
  {
   "cell_type": "code",
   "execution_count": null,
   "id": "cc77b3b6-c593-44e2-a529-74ec160c64fa",
   "metadata": {},
   "outputs": [],
   "source": []
  }
 ],
 "metadata": {
  "kernelspec": {
   "display_name": "Python 3 (ipykernel)",
   "language": "python",
   "name": "python3"
  },
  "language_info": {
   "codemirror_mode": {
    "name": "ipython",
    "version": 3
   },
   "file_extension": ".py",
   "mimetype": "text/x-python",
   "name": "python",
   "nbconvert_exporter": "python",
   "pygments_lexer": "ipython3",
   "version": "3.12.1"
  }
 },
 "nbformat": 4,
 "nbformat_minor": 5
}
